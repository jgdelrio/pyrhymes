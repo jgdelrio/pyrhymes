{
 "cells": [
  {
   "cell_type": "markdown",
   "metadata": {},
   "source": [
    "# JAI-Z \n",
    "fine tuning the bert model with jay z lyrics"
   ]
  },
  {
   "cell_type": "markdown",
   "metadata": {},
   "source": [
    "## Scrape Lyrics"
   ]
  },
  {
   "cell_type": "code",
   "execution_count": 1,
   "metadata": {},
   "outputs": [],
   "source": [
    "import requests\n",
    "\n",
    "BASE_URL = \"https://www.azlyrics.com/\"\n",
    "JAYZ_SONGS = BASE_URL + \"j/jayz.html\""
   ]
  },
  {
   "cell_type": "code",
   "execution_count": 2,
   "metadata": {},
   "outputs": [],
   "source": [
    "try: \n",
    "    from BeautifulSoup import BeautifulSoup\n",
    "except ImportError:\n",
    "    from bs4 import BeautifulSoup\n",
    "    \n",
    "resp = requests.get(JAYZ_SONGS)\n",
    "parsed_html = BeautifulSoup(resp.content)"
   ]
  },
  {
   "cell_type": "code",
   "execution_count": 3,
   "metadata": {},
   "outputs": [
    {
     "name": "stdout",
     "output_type": "stream",
     "text": [
      "NUMBER OF JAY Z SONGS: 311\n",
      "Example Path: lyrics/jayz/politicsasusual.html\n"
     ]
    }
   ],
   "source": [
    "links_to_song_lyrics = parsed_html.select('.listalbum-item a')\n",
    "print(f\"NUMBER OF JAY Z SONGS: {len(links_to_song_lyrics)}\")\n",
    "lyrics_url = links_to_song_lyrics[2].attrs['href'][3:]\n",
    "lyric_paths = [ link.attrs['href'][3:] for link in links_to_song_lyrics ]\n",
    "print(f\"Example Path: {lyric_paths[1]}\")"
   ]
  },
  {
   "cell_type": "code",
   "execution_count": 4,
   "metadata": {},
   "outputs": [],
   "source": [
    "# Create Folder\n",
    "import os\n",
    "dir_name = \"LYRICS\"\n",
    "if not os.path.exists(dir_name):\n",
    "    os.mkdir(dir_name)\n",
    "\n",
    "dir_name = \"LYRICS/JAYZ\"\n",
    "if not os.path.exists(dir_name):\n",
    "    os.mkdir(dir_name)"
   ]
  },
  {
   "cell_type": "code",
   "execution_count": 83,
   "metadata": {
    "scrolled": true
   },
   "outputs": [
    {
     "name": "stdout",
     "output_type": "stream",
     "text": [
      "cantknockthehustle\n",
      "politicsasusual\n",
      "brooklynsfinest\n",
      "deadpresidentsii\n",
      "feelinit\n",
      "devils\n",
      "22twos\n",
      "canilive\n",
      "aintnonigga\n",
      "friendorfoe\n",
      "comingofage\n",
      "cashmerethoughts\n",
      "bringiton\n",
      "regrets\n",
      "caniliveii\n",
      "thecityismine\n",
      "introamillionandonequestionsrhymenomore\n",
      "iknowwhatgirlslike\n",
      "imaginaryplayer\n",
      "thestreetsiswatching\n",
      "friendorfoe98\n",
      "luckyme\n",
      "sunshine\n",
      "whoyouwitii\n",
      "faceoff\n",
      "realniggaz\n",
      "rapgamecrackgame\n",
      "whereimfrom\n",
      "youmustloveme\n",
      "introhanditdown\n",
      "hardknocklifeghettoanthem\n",
      "ifishoulddie\n",
      "rideordie\n",
      "niggawhatniggawhooriginator99\n",
      "moneycashhoes\n",
      "aweekago\n",
      "comingofagedasequel\n",
      "ERROR: lyrics/jayz/comingofagedasequel.html: list index out of range\n",
      "canigeta\n",
      "ERROR: lyrics/jayz/canigeta.html: list index out of range\n",
      "paperchase\n",
      "ERROR: lyrics/jayz/paperchase.html: list index out of range\n",
      "reservoirdogs\n",
      "ERROR: lyrics/jayz/reservoirdogs.html: list index out of range\n",
      "itslikethat\n",
      "ERROR: lyrics/jayz/itslikethat.html: list index out of range\n",
      "itsalright\n",
      "ERROR: lyrics/jayz/itsalright.html: list index out of range\n",
      "moneyaintathang\n",
      "ERROR: lyrics/jayz/moneyaintathang.html: list index out of range\n",
      "hovasongintro\n",
      "ERROR: lyrics/jayz/hovasongintro.html: list index out of range\n",
      "soghetto\n",
      "ERROR: lyrics/jayz/soghetto.html: list index out of range\n",
      "doitagain\n",
      "ERROR: lyrics/jayz/doitagain.html: list index out of range\n",
      "dopeman\n",
      "ERROR: lyrics/jayz/dopeman.html: list index out of range\n",
      "thingsthatudo\n",
      "ERROR: lyrics/jayz/thingsthatudo.html: list index out of range\n",
      "itshotsomelikeithot\n",
      "ERROR: lyrics/jayz/itshotsomelikeithot.html: list index out of range\n",
      "snoopytrack\n",
      "ERROR: lyrics/jayz/snoopytrack.html: list index out of range\n",
      "scarter\n",
      "ERROR: lyrics/jayz/scarter.html: list index out of range\n",
      "pop4roc\n",
      "ERROR: lyrics/jayz/pop4roc.html: list index out of range\n",
      "watchme\n",
      "ERROR: lyrics/jayz/watchme.html: list index out of range\n",
      "bigpimpin\n",
      "ERROR: lyrics/jayz/bigpimpin.html: list index out of range\n",
      "theresbeenamurder\n",
      "ERROR: lyrics/jayz/theresbeenamurder.html: list index out of range\n",
      "comeandgetme\n",
      "ERROR: lyrics/jayz/comeandgetme.html: list index out of range\n"
     ]
    },
    {
     "ename": "KeyboardInterrupt",
     "evalue": "",
     "output_type": "error",
     "traceback": [
      "\u001b[0;31m---------------------------------------------------------------------------\u001b[0m",
      "\u001b[0;31mKeyboardInterrupt\u001b[0m                         Traceback (most recent call last)",
      "\u001b[0;32m<ipython-input-83-cb0839409259>\u001b[0m in \u001b[0;36m<module>\u001b[0;34m()\u001b[0m\n\u001b[1;32m     10\u001b[0m \u001b[0;32mfor\u001b[0m \u001b[0mlyric_path\u001b[0m \u001b[0;32min\u001b[0m \u001b[0mlyric_paths\u001b[0m\u001b[0;34m:\u001b[0m\u001b[0;34m\u001b[0m\u001b[0;34m\u001b[0m\u001b[0m\n\u001b[1;32m     11\u001b[0m     \u001b[0;32mtry\u001b[0m\u001b[0;34m:\u001b[0m\u001b[0;34m\u001b[0m\u001b[0;34m\u001b[0m\u001b[0m\n\u001b[0;32m---> 12\u001b[0;31m         \u001b[0mtime\u001b[0m\u001b[0;34m.\u001b[0m\u001b[0msleep\u001b[0m\u001b[0;34m(\u001b[0m\u001b[0;36m2\u001b[0m\u001b[0;34m)\u001b[0m\u001b[0;34m\u001b[0m\u001b[0;34m\u001b[0m\u001b[0m\n\u001b[0m\u001b[1;32m     13\u001b[0m         \u001b[0murl\u001b[0m \u001b[0;34m=\u001b[0m \u001b[0mBASE_URL\u001b[0m \u001b[0;34m+\u001b[0m \u001b[0mlyric_path\u001b[0m\u001b[0;34m\u001b[0m\u001b[0;34m\u001b[0m\u001b[0m\n\u001b[1;32m     14\u001b[0m         \u001b[0msong_name\u001b[0m \u001b[0;34m=\u001b[0m \u001b[0mlyric_path\u001b[0m\u001b[0;34m.\u001b[0m\u001b[0msplit\u001b[0m\u001b[0;34m(\u001b[0m\u001b[0;34m'/'\u001b[0m\u001b[0;34m)\u001b[0m\u001b[0;34m[\u001b[0m\u001b[0;34m-\u001b[0m\u001b[0;36m1\u001b[0m\u001b[0;34m]\u001b[0m\u001b[0;34m.\u001b[0m\u001b[0mreplace\u001b[0m\u001b[0;34m(\u001b[0m\u001b[0;34m'.html'\u001b[0m\u001b[0;34m,\u001b[0m \u001b[0;34m''\u001b[0m\u001b[0;34m)\u001b[0m\u001b[0;34m\u001b[0m\u001b[0;34m\u001b[0m\u001b[0m\n",
      "\u001b[0;31mKeyboardInterrupt\u001b[0m: "
     ]
    }
   ],
   "source": [
    "# Get lyrics and write them to files\n",
    "import time \n",
    "\n",
    "def get_lyrics(url):\n",
    "    resp = requests.get(url)\n",
    "    parsed_html = BeautifulSoup(resp.content)\n",
    "    text = parsed_html.select('.col-xs-12.col-lg-8.text-center')[0].text\n",
    "    return text\n",
    "\n",
    "for lyric_path in lyric_paths:\n",
    "    try:\n",
    "        time.sleep(2)\n",
    "        url = BASE_URL + lyric_path\n",
    "        song_name = lyric_path.split('/')[-1].replace('.html', '')\n",
    "        print(song_name)\n",
    "        text = get_lyrics(url)\n",
    "        with open(f\"LYRICS/JAYZ/{song_name}.txt\", \"w\") as f:\n",
    "            f.write(text)\n",
    "    except Exception as e:\n",
    "        print(f\"ERROR: {lyric_path}: {e}\")\n",
    "    "
   ]
  },
  {
   "cell_type": "code",
   "execution_count": 86,
   "metadata": {},
   "outputs": [
    {
     "data": {
      "text/plain": [
       "37"
      ]
     },
     "execution_count": 86,
     "metadata": {},
     "output_type": "execute_result"
    }
   ],
   "source": [
    "d = \"\"\"cantknockthehustle\n",
    "politicsasusual\n",
    "brooklynsfinest\n",
    "deadpresidentsii\n",
    "feelinit\n",
    "devils\n",
    "22twos\n",
    "canilive\n",
    "aintnonigga\n",
    "friendorfoe\n",
    "comingofage\n",
    "cashmerethoughts\n",
    "bringiton\n",
    "regrets\n",
    "caniliveii\n",
    "thecityismine\n",
    "introamillionandonequestionsrhymenomore\n",
    "iknowwhatgirlslike\n",
    "imaginaryplayer\n",
    "thestreetsiswatching\n",
    "friendorfoe98\n",
    "luckyme\n",
    "sunshine\n",
    "whoyouwitii\n",
    "faceoff\n",
    "realniggaz\n",
    "rapgamecrackgame\n",
    "whereimfrom\n",
    "youmustloveme\n",
    "introhanditdown\n",
    "hardknocklifeghettoanthem\n",
    "ifishoulddie\n",
    "rideordie\n",
    "niggawhatniggawhooriginator99\n",
    "moneycashhoes\n",
    "aweekago\n",
    "comingofagedasequel\"\"\"\n",
    "len(d.split('\\n'))"
   ]
  }
 ],
 "metadata": {
  "kernelspec": {
   "display_name": "Python 3",
   "language": "python",
   "name": "python3"
  },
  "language_info": {
   "codemirror_mode": {
    "name": "ipython",
    "version": 3
   },
   "file_extension": ".py",
   "mimetype": "text/x-python",
   "name": "python",
   "nbconvert_exporter": "python",
   "pygments_lexer": "ipython3",
   "version": "3.7.5"
  }
 },
 "nbformat": 4,
 "nbformat_minor": 2
}
